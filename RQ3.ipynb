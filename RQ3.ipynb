{
 "cells": [
  {
   "cell_type": "code",
   "execution_count": 1,
   "metadata": {},
   "outputs": [],
   "source": [
    "from search_engine.search_engine import SearchEngine\n",
    "import networkx as nx\n",
    "from networkx import Graph\n",
    "from sklearn.model_selection import train_test_split\n",
    "import implicit\n",
    "import scipy.sparse as sparse\n",
    "from scipy.sparse import csr_matrix\n",
    "from fast_pagerank import pagerank\n",
    "from fast_pagerank import pagerank_power\n",
    "import matplotlib.pyplot as plt\n",
    "import pandas as pd\n",
    "import numpy as np\n",
    "import os\n",
    "import math\n",
    "import igraph\n",
    "import warnings\n",
    "import csv\n",
    "warnings.filterwarnings('ignore')"
   ]
  },
  {
   "cell_type": "code",
   "execution_count": 2,
   "metadata": {},
   "outputs": [
    {
     "name": "stdout",
     "output_type": "stream",
     "text": [
      "Collection time: 0.0\n"
     ]
    }
   ],
   "source": [
    "search_engine = SearchEngine()"
   ]
  },
  {
   "cell_type": "code",
   "execution_count": 3,
   "metadata": {},
   "outputs": [
    {
     "name": "stdout",
     "output_type": "stream",
     "text": [
      "<class 'pandas.core.frame.DataFrame'>\n",
      "RangeIndex: 10000 entries, 0 to 9999\n",
      "Data columns (total 20 columns):\n",
      "created_at                 10000 non-null object\n",
      "id_str                     10000 non-null object\n",
      "text                       10000 non-null object\n",
      "source                     10000 non-null object\n",
      "truncated                  10000 non-null bool\n",
      "in_reply_to_screen_name    1522 non-null object\n",
      "user                       10000 non-null object\n",
      "retweeted_status           6972 non-null object\n",
      "reply_count                10000 non-null int64\n",
      "retweet_count              10000 non-null int64\n",
      "favorite_count             10000 non-null int64\n",
      "entities                   10000 non-null object\n",
      "favorited                  10000 non-null bool\n",
      "retweeted                  10000 non-null bool\n",
      "filter_level               10000 non-null object\n",
      "timestamp_ms               10000 non-null object\n",
      "extended_tweet             1451 non-null object\n",
      "extended_entities          441 non-null object\n",
      "withheld_in_countries      6 non-null object\n",
      "original_text              10000 non-null object\n",
      "dtypes: bool(3), int64(3), object(14)\n",
      "memory usage: 1.3+ MB\n"
     ]
    }
   ],
   "source": [
    "search_engine.tweets.info()"
   ]
  },
  {
   "cell_type": "code",
   "execution_count": 4,
   "metadata": {},
   "outputs": [],
   "source": [
    "#u -> search_engine.tweets.user[0]['screen_name']\n",
    "#v -> search_engine.tweets.retweeted_status[1]['user']['screen_name']"
   ]
  },
  {
   "cell_type": "code",
   "execution_count": 5,
   "metadata": {},
   "outputs": [],
   "source": [
    "#Para Poner bonito -> dictionario de los usuarios v\n",
    "#Mirar página en favoritos, lo del color también en la NS_P09\n",
    "#Add weight edges from how many times user u retweeted user v\n",
    "\n",
    "#g = nx.Graph()\n",
    "#for tweet in search_engine.tweets.iterrows():\n",
    "#    if str(tweet[1]['retweeted_status'])!='nan':\n",
    "#        u=tweet[1]['user']['screen_name']\n",
    "#        v=tweet[1]['retweeted_status']['user']['screen_name']\n",
    "#        g.add_node(u)\n",
    "#        g.add_node(v)\n",
    "#        g.add_edge(u,v)\n",
    "\n",
    "g=igraph.Graph()\n",
    "for tweet in search_engine.tweets.iterrows():\n",
    "    if str(tweet[1]['retweeted_status'])!='nan':\n",
    "        u=tweet[1]['user']['screen_name']\n",
    "        v=tweet[1]['retweeted_status']['user']['screen_name']\n",
    "        g.add_vertices(u)\n",
    "        g.add_vertices(v)\n",
    "        g.add_edges([(u,v)])"
   ]
  },
  {
   "cell_type": "code",
   "execution_count": 6,
   "metadata": {
    "scrolled": false
   },
   "outputs": [],
   "source": [
    "#pos=nx.spring_layout(g)\n",
    "#plt.figure(figsize=(15,15))\n",
    "#nx.draw_networkx(g, pos, node_shape='o', node_size=50, with_labels=False, font_weight='bold')\n",
    "#plt.show()\n",
    "\n",
    "#layout = g.layout(\"kk\")\n",
    "#igraph.plot(g, layout = layout, target=\"/other-outputs/igraph.png\")"
   ]
  },
  {
   "cell_type": "code",
   "execution_count": null,
   "metadata": {},
   "outputs": [],
   "source": []
  },
  {
   "cell_type": "markdown",
   "metadata": {},
   "source": [
    "*Recomender Systems*"
   ]
  },
  {
   "cell_type": "code",
   "execution_count": 282,
   "metadata": {},
   "outputs": [],
   "source": [
    "#SELCET USER ID:\n",
    "user_id=0"
   ]
  },
  {
   "cell_type": "code",
   "execution_count": 283,
   "metadata": {},
   "outputs": [],
   "source": [
    "def find_nodes_at_distance_2(graph):\n",
    "\n",
    "    all_potential_recommendations = set()\n",
    "    \n",
    "    for n1 in graph.vs:\n",
    "        \n",
    "        # all the nodes at distance 1\n",
    "        nodes_at_most_distant_1 = set(graph.neighborhood(n1, order=1))\n",
    "\n",
    "        # all the nodes at distance 1 and distance 2\n",
    "\n",
    "        nodes_at_most_distant_2 = set(graph.neighborhood(n1, order=2))\n",
    "\n",
    "        # only the nodes at distance 2\n",
    "        only_nodes_at_distance_2 = nodes_at_most_distant_2 - nodes_at_most_distant_1\n",
    "        \n",
    "        \n",
    "        # check if empty set\n",
    "        if len(nodes_at_most_distant_2) > 0:\n",
    "            for n2 in nodes_at_most_distant_2:\n",
    "                \n",
    "                # since n1 is an igraph vertex object, we need to extract the id\n",
    "                n1_index = n1.index\n",
    "                if n1_index!=n2:\n",
    "                    all_potential_recommendations.add((n1_index, n2))\n",
    "            \n",
    "    return all_potential_recommendations\n",
    "\n",
    "def predict_ALS(testset, model):\n",
    "    # initialize the empty list\n",
    "    all_predictions = []\n",
    "\n",
    "    # scroll the obs\n",
    "    for n1,n2, w in testset:\n",
    "        \n",
    "        # take here the low-dimensional vectors returned by the matrix factorization\n",
    "        \n",
    "        array_n1 = model.user_factors[n1,:]\n",
    "        array_n2 = model.item_factors[n2,:]\n",
    "\n",
    "        # multiplying these vectors we generate an approximation for the edge score\n",
    "        one_p = np.dot(array_n1, array_n2)\n",
    "\n",
    "        all_predictions.append(one_p)\n",
    "        \n",
    "    return all_predictions"
   ]
  },
  {
   "cell_type": "code",
   "execution_count": 284,
   "metadata": {},
   "outputs": [],
   "source": [
    "edges_max_distance_2=find_nodes_at_distance_2(g)\n",
    "\n",
    "# fraction of edges to select as test-set\n",
    "p = 0.2\n",
    "\n",
    "# graphsize\n",
    "N = len(g.es)\n",
    "\n",
    "# idxs of all the edges\n",
    "all_idxs = range(N)\n",
    "\n",
    "# sample idxs of edges through the function \"choice\"\n",
    "test_idxs = np.random.choice(a=all_idxs, size=int(p*N),replace=False)"
   ]
  },
  {
   "cell_type": "markdown",
   "metadata": {},
   "source": [
    "ALS (Alternate Least Squares) #VER SI SON LOS FRIENDS-OF-FRIENDS"
   ]
  },
  {
   "cell_type": "code",
   "execution_count": 285,
   "metadata": {},
   "outputs": [],
   "source": [
    "def number_to_username(alg_list: list, g) -> list:\n",
    "    alg_list_transformed=[]\n",
    "    for i in range(len(alg_list)):\n",
    "        name=g.vs[int(alg_list[i][0])]['name']\n",
    "        new_tuple=(name, alg_list[i][1])\n",
    "        alg_list_transformed.append(new_tuple)\n",
    "    return alg_list_transformed\n",
    "\n",
    "def recommend_users(user_id: int, G:csr_matrix, g: igraph.Graph, top: int = 10) -> list:\n",
    "    ALS_recommended_users=model.recommend(user_id, G, top)\n",
    "    #ALS_recommended_users_with_names=number_to_username(ALS_recommended_users, g)\n",
    "    return ALS_recommended_users"
   ]
  },
  {
   "cell_type": "code",
   "execution_count": 286,
   "metadata": {},
   "outputs": [],
   "source": [
    "ground_truth = set()\n",
    "trainset = set()\n",
    "for idx, one_edge in enumerate(g.es):\n",
    "    # take n1 and n2 idx from one_edge, that is an igraph edge *object*\n",
    "    n1 = one_edge.source\n",
    "    n2 = one_edge.target\n",
    "    if idx in test_idxs:\n",
    "        ground_truth.add((n1, n2, 1))\n",
    "    else:\n",
    "        trainset.add((n1, n2, 1))\n",
    "        \n",
    "for rec in edges_max_distance_2:\n",
    "    \n",
    "    # add to ground truth also the potential nodes\n",
    "    n1 = rec[0]\n",
    "    n2 = rec[1]\n",
    "    \n",
    "    ground_truth.add((n1,n2,0))"
   ]
  },
  {
   "cell_type": "code",
   "execution_count": 265,
   "metadata": {},
   "outputs": [],
   "source": [
    "G = g.get_adjacency().data\n",
    "G = csr_matrix(G)"
   ]
  },
  {
   "cell_type": "code",
   "execution_count": 287,
   "metadata": {
    "scrolled": true
   },
   "outputs": [
    {
     "data": {
      "application/vnd.jupyter.widget-view+json": {
       "model_id": "36f9b78a364f49748890a7f3105b8eb7",
       "version_major": 2,
       "version_minor": 0
      },
      "text/plain": [
       "HBox(children=(FloatProgress(value=0.0, max=5.0), HTML(value='')))"
      ]
     },
     "metadata": {},
     "output_type": "display_data"
    },
    {
     "name": "stdout",
     "output_type": "stream",
     "text": [
      "\n"
     ]
    }
   ],
   "source": [
    "model = implicit.als.AlternatingLeastSquares(factors=10, iterations=5, calculate_training_loss=True)\n",
    "model.fit(G)"
   ]
  },
  {
   "cell_type": "code",
   "execution_count": 288,
   "metadata": {},
   "outputs": [],
   "source": [
    "# generate the predictions\n",
    "df_test = pd.DataFrame(list(ground_truth), columns=[\"n1\",\"n2\", \"edge\"])\n",
    "\n",
    "all_predictions = predict_ALS(df_test.values, model)\n",
    "\n",
    "# add predictions to df\n",
    "df_test[\"rating\"] = all_predictions\n",
    "\n",
    "# convert predictions to binary values: 0 don't add the edge, 1 add it.\n",
    "df_test[\"rating\"] = df_test[\"rating\"].apply(lambda x: round(x))"
   ]
  },
  {
   "cell_type": "code",
   "execution_count": 289,
   "metadata": {},
   "outputs": [
    {
     "data": {
      "text/html": [
       "<div>\n",
       "<style scoped>\n",
       "    .dataframe tbody tr th:only-of-type {\n",
       "        vertical-align: middle;\n",
       "    }\n",
       "\n",
       "    .dataframe tbody tr th {\n",
       "        vertical-align: top;\n",
       "    }\n",
       "\n",
       "    .dataframe thead th {\n",
       "        text-align: right;\n",
       "    }\n",
       "</style>\n",
       "<table border=\"1\" class=\"dataframe\">\n",
       "  <thead>\n",
       "    <tr style=\"text-align: right;\">\n",
       "      <th></th>\n",
       "      <th>n1</th>\n",
       "      <th>n2</th>\n",
       "      <th>edge</th>\n",
       "      <th>rating</th>\n",
       "    </tr>\n",
       "  </thead>\n",
       "  <tbody>\n",
       "    <tr>\n",
       "      <th>0</th>\n",
       "      <td>1123</td>\n",
       "      <td>1528</td>\n",
       "      <td>1</td>\n",
       "      <td>0</td>\n",
       "    </tr>\n",
       "    <tr>\n",
       "      <th>1</th>\n",
       "      <td>3896</td>\n",
       "      <td>1098</td>\n",
       "      <td>0</td>\n",
       "      <td>0</td>\n",
       "    </tr>\n",
       "    <tr>\n",
       "      <th>2</th>\n",
       "      <td>844</td>\n",
       "      <td>748</td>\n",
       "      <td>0</td>\n",
       "      <td>0</td>\n",
       "    </tr>\n",
       "    <tr>\n",
       "      <th>3</th>\n",
       "      <td>3788</td>\n",
       "      <td>10604</td>\n",
       "      <td>0</td>\n",
       "      <td>0</td>\n",
       "    </tr>\n",
       "    <tr>\n",
       "      <th>4</th>\n",
       "      <td>9976</td>\n",
       "      <td>844</td>\n",
       "      <td>0</td>\n",
       "      <td>0</td>\n",
       "    </tr>\n",
       "  </tbody>\n",
       "</table>\n",
       "</div>"
      ],
      "text/plain": [
       "     n1     n2  edge  rating\n",
       "0  1123   1528     1       0\n",
       "1  3896   1098     0       0\n",
       "2   844    748     0       0\n",
       "3  3788  10604     0       0\n",
       "4  9976    844     0       0"
      ]
     },
     "execution_count": 289,
     "metadata": {},
     "output_type": "execute_result"
    }
   ],
   "source": [
    "df_test.head()"
   ]
  },
  {
   "cell_type": "code",
   "execution_count": 290,
   "metadata": {},
   "outputs": [
    {
     "data": {
      "text/plain": [
       "0.9890923907507385"
      ]
     },
     "execution_count": 290,
     "metadata": {},
     "output_type": "execute_result"
    }
   ],
   "source": [
    "# number of observations matched by the prediction\n",
    "right_predictions = len(df_test[df_test.edge == df_test.rating])\n",
    "\n",
    "# accuracy\n",
    "right_predictions/len(df_test)"
   ]
  },
  {
   "cell_type": "code",
   "execution_count": 304,
   "metadata": {},
   "outputs": [
    {
     "data": {
      "text/plain": [
       "[(97, 0.09225066),\n",
       " (77, 0.0677746),\n",
       " (93, 0.048736416),\n",
       " (73, 0.04281413),\n",
       " (65, 0.0396551),\n",
       " (111, 0.032695185),\n",
       " (311, 0.0326447),\n",
       " (53, 0.03171517),\n",
       " (7, 0.030292317),\n",
       " (133, 0.029419735)]"
      ]
     },
     "execution_count": 304,
     "metadata": {},
     "output_type": "execute_result"
    }
   ],
   "source": [
    "ALS_recomdetaion_ids=recommend_users(user_id, G, g)\n",
    "ALS_recomdetaion_names=number_to_username(ALS_recomdetaion_ids, g)\n",
    "ALS_recomdetaion_ids"
   ]
  },
  {
   "cell_type": "markdown",
   "metadata": {},
   "source": [
    "DCG ALS"
   ]
  },
  {
   "cell_type": "code",
   "execution_count": 305,
   "metadata": {},
   "outputs": [
    {
     "name": "stdout",
     "output_type": "stream",
     "text": [
      "[0, 1, 2029]\n",
      "\n",
      "[0, 516, 1282, 3422, 4130, 4618, 5988, 7290, 8542, 10358, 10700]\n",
      "[0, 112, 266, 482, 652, 914, 1055, 1282, 2168, 2214, 2504, 2866, 3022, 3180, 3210, 3534, 3744, 4174, 4340, 4754, 5418, 6014, 6534, 6902, 7164, 7276, 8188, 8228, 8322, 8434, 8990, 9014, 9068, 9206, 9300, 9660, 9792, 9954, 10484, 10982, 11224, 11468, 11484, 11742, 12316, 12420, 12458, 13436]\n"
     ]
    }
   ],
   "source": [
    "print(g.neighborhood(user_id, order=1))\n",
    "print()\n",
    "print(g.neighbors(2029))\n",
    "print(g.neighbors(1))"
   ]
  },
  {
   "cell_type": "code",
   "execution_count": null,
   "metadata": {},
   "outputs": [],
   "source": []
  },
  {
   "cell_type": "markdown",
   "metadata": {},
   "source": [
    " ---------------------------------------------------------------------------------------------------------------------------"
   ]
  },
  {
   "cell_type": "markdown",
   "metadata": {},
   "source": [
    "Adamic-Adar"
   ]
  },
  {
   "cell_type": "code",
   "execution_count": 142,
   "metadata": {},
   "outputs": [],
   "source": [
    "def get_recommendation_AA(username: str, g:igraph.Graph) -> pd.DataFrame:\n",
    "    x_neighbors=set()\n",
    "    y_neighbors=set()\n",
    "    usersu=[]\n",
    "    usersv=[]\n",
    "    for i in g.es:\n",
    "        usersu.append(i.tuple[0])\n",
    "        usersv.append(i.tuple[1])\n",
    "    \n",
    "    users_unique_list=set(usersu)|set(usersv)\n",
    "    adamic_avar_data=pd.DataFrame(columns=[username], index=users_unique_list)\n",
    "    for user_y in users_unique_list:\n",
    "        if username!=user_y:\n",
    "            x_neighbors=set(g.neighbors(username))\n",
    "            y_neighbors=set(g.neighborhood(user_y))\n",
    "        same_neighbors=x_neighbors&y_neighbors\n",
    "        aa_val=0\n",
    "        for n in same_neighbors:\n",
    "            num_neighbors=len(g.neighbors(n))\n",
    "            aa_val+=(1/math.log(num_neighbors,10))\n",
    "        adamic_avar_data[username][user_y]=aa_val\n",
    "    top_n_recommendations_aa=adamic_avar_data[username].sort_values(ascending=False)\n",
    "    aa_final_recommendation=pd.DataFrame(top_n_recommendations_aa)\n",
    "    return aa_final_recommendation.head(10)\n",
    "\n",
    "def AA_num_to_name(dataset: pd.DataFrame, g: igraph.Graph)->pd.DataFrame:\n",
    "    old_indices=list(dataset.index)\n",
    "    new_indices=[]\n",
    "    #name_column=g.vs[dataset=columns[0]]['name']\n",
    "    main_user_id=dataset.columns[0]\n",
    "    main_user_name=g.vs[main_user_id]['name']\n",
    "    for user_id in old_indices:\n",
    "        name=g.vs[user_id]['name']\n",
    "        new_indices.append(name)\n",
    "    new_dataset=pd.DataFrame(dataset.values, columns=[main_user_name], index=new_indices)\n",
    "    return new_dataset"
   ]
  },
  {
   "cell_type": "code",
   "execution_count": 154,
   "metadata": {
    "scrolled": false
   },
   "outputs": [
    {
     "data": {
      "text/html": [
       "<div>\n",
       "<style scoped>\n",
       "    .dataframe tbody tr th:only-of-type {\n",
       "        vertical-align: middle;\n",
       "    }\n",
       "\n",
       "    .dataframe tbody tr th {\n",
       "        vertical-align: top;\n",
       "    }\n",
       "\n",
       "    .dataframe thead th {\n",
       "        text-align: right;\n",
       "    }\n",
       "</style>\n",
       "<table border=\"1\" class=\"dataframe\">\n",
       "  <thead>\n",
       "    <tr style=\"text-align: right;\">\n",
       "      <th></th>\n",
       "      <th>2</th>\n",
       "    </tr>\n",
       "  </thead>\n",
       "  <tbody>\n",
       "    <tr>\n",
       "      <th>8640</th>\n",
       "      <td>0.698634</td>\n",
       "    </tr>\n",
       "    <tr>\n",
       "      <th>11870</th>\n",
       "      <td>0.698634</td>\n",
       "    </tr>\n",
       "    <tr>\n",
       "      <th>554</th>\n",
       "      <td>0.698634</td>\n",
       "    </tr>\n",
       "    <tr>\n",
       "      <th>10854</th>\n",
       "      <td>0.698634</td>\n",
       "    </tr>\n",
       "    <tr>\n",
       "      <th>11648</th>\n",
       "      <td>0.698634</td>\n",
       "    </tr>\n",
       "    <tr>\n",
       "      <th>3960</th>\n",
       "      <td>0.698634</td>\n",
       "    </tr>\n",
       "    <tr>\n",
       "      <th>1210</th>\n",
       "      <td>0.698634</td>\n",
       "    </tr>\n",
       "    <tr>\n",
       "      <th>1608</th>\n",
       "      <td>0.698634</td>\n",
       "    </tr>\n",
       "    <tr>\n",
       "      <th>3422</th>\n",
       "      <td>0.698634</td>\n",
       "    </tr>\n",
       "    <tr>\n",
       "      <th>6522</th>\n",
       "      <td>0.698634</td>\n",
       "    </tr>\n",
       "  </tbody>\n",
       "</table>\n",
       "</div>"
      ],
      "text/plain": [
       "              2\n",
       "8640   0.698634\n",
       "11870  0.698634\n",
       "554    0.698634\n",
       "10854  0.698634\n",
       "11648  0.698634\n",
       "3960   0.698634\n",
       "1210   0.698634\n",
       "1608   0.698634\n",
       "3422   0.698634\n",
       "6522   0.698634"
      ]
     },
     "execution_count": 154,
     "metadata": {},
     "output_type": "execute_result"
    }
   ],
   "source": [
    "AA_recommendation_ids=get_recommendation_AA(user_id, g)\n",
    "AA_recommendation_names=AA_num_to_name(AA_data, g)\n",
    "AA_recommendation_ids"
   ]
  },
  {
   "cell_type": "code",
   "execution_count": 86,
   "metadata": {},
   "outputs": [],
   "source": [
    "#users_u=[names[0] for names in list(g.edges)]\n",
    "#users_v=[names[1] for names in list(g.edges)]\n",
    "#Introduce a username to get its friends recommendations\n",
    "#u='1Krohmer13'\n",
    "#get_recommendation_AA(u, users_u, users_v)"
   ]
  },
  {
   "cell_type": "markdown",
   "metadata": {},
   "source": [
    "----------------------------------------------------------------------------------------------------------------------------"
   ]
  },
  {
   "cell_type": "markdown",
   "metadata": {},
   "source": [
    "PageRank"
   ]
  },
  {
   "cell_type": "code",
   "execution_count": 254,
   "metadata": {},
   "outputs": [],
   "source": [
    "def pagerank_clearer(pagerank_values: list, g: igraph.Graph) -> list:\n",
    "    pagerank=[]\n",
    "    for i in range(len(pagerank_values)):\n",
    "            user=pagerank_values[i][0]\n",
    "            name=g.vs[user]['name']\n",
    "            val=float(pagerank_values[i][1])\n",
    "            pagerank.append((name, val))\n",
    "    return pagerank\n",
    "\n",
    "def top_10_ids(pagerank_result: list, user_id: int)->list:\n",
    "    pagerank_with_ids=[]\n",
    "    for i in range(len(pagerank_result)):\n",
    "        if i!=user_id:\n",
    "            pagerank_with_ids.append([i, pagerank_result[i]])\n",
    "    pagerank_with_ids.sort(key = lambda x: x[1], reverse=True)\n",
    "    pagerank_top_10_ids=pagerank_with_ids[0:10]\n",
    "    return pagerank_top_10_ids"
   ]
  },
  {
   "cell_type": "code",
   "execution_count": 257,
   "metadata": {},
   "outputs": [
    {
     "data": {
      "text/plain": [
       "[('aaronjcarpenter', 0.14464007260674197),\n",
       " ('GOPLeader', 0.10436465506455363),\n",
       " ('m_damuy', 0.01411323598099609),\n",
       " ('realDonaldTrump', 0.012462920530383611),\n",
       " ('kayleighmcenany', 0.011864371180461712),\n",
       " ('mhoran1158', 0.011798789754219368),\n",
       " ('Madnessauto69', 0.010989788472787218),\n",
       " ('EReldeonk', 0.009768140426121097),\n",
       " ('hallroland', 0.009089399533786615),\n",
       " ('ZieglerDanny', 0.008438049509322554)]"
      ]
     },
     "execution_count": 257,
     "metadata": {},
     "output_type": "execute_result"
    }
   ],
   "source": [
    "##This will give the values of the users normalized??\n",
    "#Do list (id, punctuation)\n",
    "PageRank_recommendations=g.personalized_pagerank(directed=True, reset_vertices=user_id)\n",
    "PageRank_recommendation_ids=top_10_ids(PageRank_recommendations, user_id)\n",
    "PageRank_recommendation_names=pagerank_clearer(PageRank_recommendation_ids, g)\n",
    "PageRank_recommendation_names"
   ]
  },
  {
   "cell_type": "markdown",
   "metadata": {},
   "source": [
    "----------------------------------------------------------------------------------------------------------------------------"
   ]
  },
  {
   "cell_type": "markdown",
   "metadata": {},
   "source": [
    "Node2vec"
   ]
  },
  {
   "cell_type": "code",
   "execution_count": 258,
   "metadata": {},
   "outputs": [],
   "source": [
    "import argparse\n",
    "import numpy as np\n",
    "import networkx as nx\n",
    "import node2vec\n",
    "#from gensim.models import Word2Vec"
   ]
  },
  {
   "cell_type": "code",
   "execution_count": 259,
   "metadata": {},
   "outputs": [],
   "source": [
    "A = g.get_edgelist()\n",
    "graph = nx.Graph(A) # In case your graph is directed"
   ]
  },
  {
   "cell_type": "code",
   "execution_count": 260,
   "metadata": {},
   "outputs": [],
   "source": [
    "#help(node2vec.Node2Vec)"
   ]
  },
  {
   "cell_type": "code",
   "execution_count": 261,
   "metadata": {},
   "outputs": [
    {
     "data": {
      "application/vnd.jupyter.widget-view+json": {
       "model_id": "4edbd840d7104515828f4260b8899f76",
       "version_major": 2,
       "version_minor": 0
      },
      "text/plain": [
       "HBox(children=(FloatProgress(value=0.0, description='Computing transition probabilities', max=6641.0, style=Pr…"
      ]
     },
     "metadata": {},
     "output_type": "display_data"
    },
    {
     "name": "stdout",
     "output_type": "stream",
     "text": [
      "\n"
     ]
    }
   ],
   "source": [
    "# Precompute probabilities and generate walks - **ON WINDOWS ONLY WORKS WITH workers=1**\n",
    "node2vec = node2vec.Node2Vec(graph, dimensions=64, walk_length=2, num_walks=200, workers=4) #Use temp_folder for big graphs\n",
    "model = node2vec.fit(window=10, min_count=1, batch_words=4)  # Any keywords acceptable by gensim.Word2Vec can be passed, \n",
    "                                                             #`dimensions` and `workers` are automatically passed (from the \n",
    "                                                             #Node2Vec constructor)"
   ]
  },
  {
   "cell_type": "code",
   "execution_count": 262,
   "metadata": {},
   "outputs": [],
   "source": [
    "user_id_str=str(user_id)\n",
    "node2vec_recommendation_ids=model.wv.most_similar(user_id_str)"
   ]
  },
  {
   "cell_type": "code",
   "execution_count": 73,
   "metadata": {
    "scrolled": false
   },
   "outputs": [
    {
     "data": {
      "text/plain": [
       "[('sherryclayton53', 0.9992790222167969),\n",
       " ('Miguelach19', 0.9992578029632568),\n",
       " ('PikachuEXE', 0.9992504119873047),\n",
       " ('CharmaneWargo1', 0.9991941452026367),\n",
       " ('AshleyW838', 0.9991587996482849),\n",
       " ('LuzSamiraRodrg2', 0.9991163611412048),\n",
       " ('goncen60', 0.9990949630737305),\n",
       " ('Pjxport3', 0.9642602801322937),\n",
       " ('herbySk', 0.94817054271698),\n",
       " ('ROB_ENGLAND_', 0.9449869394302368)]"
      ]
     },
     "execution_count": 73,
     "metadata": {},
     "output_type": "execute_result"
    }
   ],
   "source": [
    "node2vec_recommendation_names=number_to_username(node2vec_recommendation_ids, g)"
   ]
  },
  {
   "cell_type": "code",
   "execution_count": null,
   "metadata": {},
   "outputs": [],
   "source": []
  },
  {
   "cell_type": "markdown",
   "metadata": {},
   "source": [
    "----------------------------------------------------------------------------------------------------------------------------"
   ]
  },
  {
   "cell_type": "code",
   "execution_count": null,
   "metadata": {},
   "outputs": [],
   "source": []
  },
  {
   "cell_type": "code",
   "execution_count": null,
   "metadata": {},
   "outputs": [],
   "source": []
  },
  {
   "cell_type": "code",
   "execution_count": null,
   "metadata": {},
   "outputs": [],
   "source": []
  },
  {
   "cell_type": "code",
   "execution_count": null,
   "metadata": {},
   "outputs": [],
   "source": []
  },
  {
   "cell_type": "code",
   "execution_count": null,
   "metadata": {},
   "outputs": [],
   "source": []
  },
  {
   "cell_type": "code",
   "execution_count": null,
   "metadata": {},
   "outputs": [],
   "source": []
  },
  {
   "cell_type": "code",
   "execution_count": null,
   "metadata": {},
   "outputs": [],
   "source": []
  },
  {
   "cell_type": "code",
   "execution_count": null,
   "metadata": {},
   "outputs": [],
   "source": [
    "#Definitions that were created for ALS\n",
    "\n",
    "#def adjency_matrix(vocabulary: dict, edges: list) -> csr_matrix:\n",
    "#    adj_matrix=pd.DataFrame(0, columns=list(vocabulary.values()), index=list(vocabulary.values()))\n",
    "#    A=np.array(edges)\n",
    "#    for i in range(len(A)):\n",
    "#        A[i][0]=vocabulary[A[i][0]]\n",
    "#        A[i][1]=vocabulary[A[i][1]]\n",
    "#    for i in range(len(A)):\n",
    "#        useru=int(A[i][0])\n",
    "#        userv=int(A[i][1])\n",
    "#        adj_matrix[useru][userv]=1\n",
    "#        adj_matrix[userv][useru]=1\n",
    "#        adj_matrix_sparse=sparse.csr_matrix(adj_matrix.values)\n",
    "#    return adj_matrix_sparse\n",
    "\n",
    "#def similar_users(user_id: int, top: int, vocabulary:dict) -> list:\n",
    "#    ALS_similar_users=model.similar_users(user_id,top)\n",
    "#    ALS_similar_users_with_names=number_to_username(ALS_similar_users, vocabulary)\n",
    "#    return ALS_similar_users_with_names\n",
    "\n",
    "#def recommend_users(user_id: int, G:csr_matrix, top: int, vocabulary:dict) -> list:\n",
    "#    ALS_recommended_users=model.recommend(user_id, G, top)\n",
    "#    ALS_recommended_users_with_names=number_to_username(ALS_recommended_users, vocabulary)\n",
    "#    return ALS_recommended_users_with_names\n",
    "\n",
    "#def number_to_username(ALS_list: list, vocabulary: dict) -> list:\n",
    "#    ALS_list_transformed=[]\n",
    "#    for i in range(len(ALS_list)):\n",
    "#        name=list(vocabulary.keys())[list(vocabulary.values()).index(ALS_list[i][0])]\n",
    "#        new_tuple=(name, ALS_list[i][1])\n",
    "#        ALS_list_transformed.append(new_tuple)\n",
    "#    return ALS_list_transformed"
   ]
  },
  {
   "cell_type": "code",
   "execution_count": null,
   "metadata": {},
   "outputs": [],
   "source": [
    "#Definitions that were created for A-A\n",
    "\n",
    "#def get_neighbors(username: str, usersu: list, usersv: list) -> list:\n",
    "#    neighbors=[]\n",
    "#    for i in range(len(usersu)):\n",
    "#        if (username==usersu[i]):\n",
    "#            neighbors.append(usersv[i])\n",
    "#        if (username==usersv[i]):\n",
    "#            neighbors.append(usersu[i])\n",
    "#    return neighbors\n",
    "\n",
    "#def get_recommendation_AA(username: str, usersu: list, usersv: list) -> pd.DataFrame:\n",
    "#    users_unique_list=set(usersu)|set(usersv)\n",
    "#    adamic_avar_data=pd.DataFrame(columns=[username], index=users_unique_list)\n",
    "#    for user_y in users_unique_list:\n",
    "#        if username!=user_y:\n",
    "#            x_neighbors=set(get_neighbors(username, usersu, usersv))\n",
    "#            y_neighbors=set(get_neighbors(user_y, usersu, usersv))\n",
    "#        same_neighbors=x_neighbors&y_neighbors\n",
    "#        aa_val=0\n",
    "#        for n in same_neighbors:\n",
    "#            num_neighbors=len(get_neighbors(n, usersu, usersv))\n",
    "#            aa_val+=(1/math.log(num_neighbors))\n",
    "#        adamic_avar_data[username][user_y]=aa_val\n",
    "#    top_n_recommendations_aa=adamic_avar_data[username].sort_values(ascending=False)\n",
    "#    aa_final_recommendation=pd.DataFrame(top_n_recommendations_aa)\n",
    "#    return aa_final_recommendation.head(10)"
   ]
  },
  {
   "cell_type": "code",
   "execution_count": null,
   "metadata": {},
   "outputs": [],
   "source": []
  }
 ],
 "metadata": {
  "kernelspec": {
   "display_name": "Python 3",
   "language": "python",
   "name": "python3"
  },
  "language_info": {
   "codemirror_mode": {
    "name": "ipython",
    "version": 3
   },
   "file_extension": ".py",
   "mimetype": "text/x-python",
   "name": "python",
   "nbconvert_exporter": "python",
   "pygments_lexer": "ipython3",
   "version": "3.7.3"
  }
 },
 "nbformat": 4,
 "nbformat_minor": 2
}
