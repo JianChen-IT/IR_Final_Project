{
 "cells": [
  {
   "cell_type": "markdown",
   "metadata": {},
   "source": [
    "## Search Engine\n",
    "\n",
    "Students: Irene Cantero (U151206) / Jian Chen (U150279)\n",
    "\n",
    "All the code is stored in the folder `search_engine`. The notebook only contains the calls and some functions to do the T-SNE and the clustering.\n",
    "\n",
    "Content: \n",
    "\n",
    "- Top 10 results only using TF-IDF + Cosine similarity for 10 chosen queries\n",
    "- Top 10 results using Word2Vec + Cosine similarity for the same 10 chosen queries\n",
    "- Search with custom score G(d) + cosine similarity for a given query\n",
    "        - G(d) considers the (1/2)Tweets likes, (1/3)retweets and (1/6) replies\n",
    "- T-SNE implementation and plot using T-SNE.\n",
    "- Plot to see the optimal number of clusterings.\n",
    "- Clustering using K means and the optimal number of clusterings, showing the most common words of each cluster as well."
   ]
  },
  {
   "cell_type": "code",
   "execution_count": 3,
   "metadata": {},
   "outputs": [],
   "source": [
    "from search_engine.search_engine import SearchEngine\n",
    "import pandas as pd\n",
    "import os\n",
    "import warnings\n",
    "import csv\n",
    "\n",
    "warnings.filterwarnings('ignore')"
   ]
  },
  {
   "cell_type": "code",
   "execution_count": 4,
   "metadata": {},
   "outputs": [
    {
     "name": "stdout",
     "output_type": "stream",
     "text": [
      "Collection time: 0.0\n"
     ]
    }
   ],
   "source": [
    "search_engine = SearchEngine()"
   ]
  },
  {
   "cell_type": "markdown",
   "metadata": {},
   "source": [
    "Here we run the search engine considering the popularity (Likes, Retweets and Replies) of each tweet."
   ]
  },
  {
   "cell_type": "code",
   "execution_count": 5,
   "metadata": {
    "scrolled": true
   },
   "outputs": [
    {
     "name": "stdout",
     "output_type": "stream",
     "text": [
      "Insert your query:\n",
      "\n"
     ]
    },
    {
     "data": {
      "text/html": [
       "<div>\n",
       "<style scoped>\n",
       "    .dataframe tbody tr th:only-of-type {\n",
       "        vertical-align: middle;\n",
       "    }\n",
       "\n",
       "    .dataframe tbody tr th {\n",
       "        vertical-align: top;\n",
       "    }\n",
       "\n",
       "    .dataframe thead th {\n",
       "        text-align: right;\n",
       "    }\n",
       "</style>\n",
       "<table border=\"1\" class=\"dataframe\">\n",
       "  <thead>\n",
       "    <tr style=\"text-align: right;\">\n",
       "      <th></th>\n",
       "      <th>Tweet</th>\n",
       "      <th>Username</th>\n",
       "      <th>Date</th>\n",
       "      <th>Hashtags</th>\n",
       "      <th>Likes</th>\n",
       "      <th>Retweets</th>\n",
       "      <th>Replies</th>\n",
       "      <th>Url</th>\n",
       "      <th>score</th>\n",
       "      <th>g(d)</th>\n",
       "      <th>total_score</th>\n",
       "    </tr>\n",
       "  </thead>\n",
       "  <tbody>\n",
       "    <tr>\n",
       "      <th>0</th>\n",
       "      <td>A new Gallup poll finds that President-elect Joe Biden has a 55% favorable rating and a 41% unfavorable rating.\\n\\nJoe Biden's already more popular than Trump's ever been.  https://t.co/3Qse62vVrH</td>\n",
       "      <td>Vaughn Sterling</td>\n",
       "      <td>Sun Dec 06 15:32:42 +0000 2020</td>\n",
       "      <td>[]</td>\n",
       "      <td>4050</td>\n",
       "      <td>843</td>\n",
       "      <td>92</td>\n",
       "      <td>https://twitter.com/i/web/status/1335608111353237504</td>\n",
       "      <td>2.329264</td>\n",
       "      <td>0.026003</td>\n",
       "      <td>2.355268</td>\n",
       "    </tr>\n",
       "    <tr>\n",
       "      <th>1</th>\n",
       "      <td>Joe #Biden’s Lead in #Arizona Shrinks to 12.8K, 46.7K Outstanding #Ballots\\n\\nhttps://t.co/WYsz3zgglP\\n\\n#QAnon2018 #QAnon2020  \\n#StopTheSteal\\n#Election2020 https://t.co/ZFIUO6ShS7</td>\n",
       "      <td>Zeus 🇺🇸 ⭐⭐⭐ No Collusion, No Obstruction!</td>\n",
       "      <td>Wed Nov 11 21:27:32 +0000 2020</td>\n",
       "      <td>[Biden, Arizona, Ballots, QAnon2018, QAnon2020, StopTheSteal, Election2020]</td>\n",
       "      <td>504</td>\n",
       "      <td>362</td>\n",
       "      <td>36</td>\n",
       "      <td>https://twitter.com/i/web/status/1326637712129069060</td>\n",
       "      <td>2.329264</td>\n",
       "      <td>0.005160</td>\n",
       "      <td>2.334425</td>\n",
       "    </tr>\n",
       "  </tbody>\n",
       "</table>\n",
       "</div>"
      ],
      "text/plain": [
       "                                                                                                                                                                                                  Tweet  \\\n",
       "0  A new Gallup poll finds that President-elect Joe Biden has a 55% favorable rating and a 41% unfavorable rating.\\n\\nJoe Biden's already more popular than Trump's ever been.  https://t.co/3Qse62vVrH   \n",
       "1  Joe #Biden’s Lead in #Arizona Shrinks to 12.8K, 46.7K Outstanding #Ballots\\n\\nhttps://t.co/WYsz3zgglP\\n\\n#QAnon2018 #QAnon2020  \\n#StopTheSteal\\n#Election2020 https://t.co/ZFIUO6ShS7                 \n",
       "\n",
       "                                    Username                            Date  \\\n",
       "0  Vaughn Sterling                            Sun Dec 06 15:32:42 +0000 2020   \n",
       "1  Zeus 🇺🇸 ⭐⭐⭐ No Collusion, No Obstruction!  Wed Nov 11 21:27:32 +0000 2020   \n",
       "\n",
       "                                                                      Hashtags  \\\n",
       "0  []                                                                            \n",
       "1  [Biden, Arizona, Ballots, QAnon2018, QAnon2020, StopTheSteal, Election2020]   \n",
       "\n",
       "   Likes  Retweets  Replies  \\\n",
       "0  4050   843       92        \n",
       "1  504    362       36        \n",
       "\n",
       "                                                    Url     score      g(d)  \\\n",
       "0  https://twitter.com/i/web/status/1335608111353237504  2.329264  0.026003   \n",
       "1  https://twitter.com/i/web/status/1326637712129069060  2.329264  0.005160   \n",
       "\n",
       "   total_score  \n",
       "0  2.355268     \n",
       "1  2.334425     "
      ]
     },
     "execution_count": 5,
     "metadata": {},
     "output_type": "execute_result"
    }
   ],
   "source": [
    "pd.set_option('display.max_colwidth', -1)\n",
    "search_engine.ranking_system.change_user_output(2)\n",
    "print(\"Insert your query:\\n\")\n",
    "#query = input()\n",
    "query = \"joe biden\"\n",
    "search_engine.run(query).query(\"score > 0\").head(20)"
   ]
  },
  {
   "cell_type": "markdown",
   "metadata": {},
   "source": [
    "This is the code to answer RQ1b:"
   ]
  },
  {
   "cell_type": "code",
   "execution_count": null,
   "metadata": {
    "scrolled": true
   },
   "outputs": [],
   "source": [
    "pd.set_option('display.max_colwidth', -1)\n",
    "#chosen queries\n",
    "queries=[]\n",
    "queries.append(\"joe biden won elections\")\n",
    "queries.append(\"donald trump is the president\")\n",
    "queries.append(\"elections are a fraud\")\n",
    "queries.append(\"pennsylvania\")\n",
    "queries.append(\"trump out\")\n",
    "queries.append(\"votes fraud\")\n",
    "queries.append(\"i voted\")\n",
    "queries.append(\"georgia votes\")\n",
    "queries.append(\"trump team\")\n",
    "queries.append(\"biden team\")\n",
    "\n",
    "#NOTE: to open the tsv correctly use UTF-8\n",
    "try:\n",
    "    os.remove('other-outputs/RQ1b.tsv')\n",
    "except:\n",
    "    pass\n",
    "\n",
    "search_engine.ranking_system.change_user_output(1) #Using TF-IDF + cosine_similarity\n",
    "# Setting the header of the TSV file\n",
    "RQ1 = open('other-outputs/RQ1b.tsv', 'a+')\n",
    "RQ1.write(\"\\tTweet\\tUsername\\tDate\\tHashtags\\tLikes\\tRetweets\\tReplies\\tUrl\\tScore\\n\")\n",
    "RQ1.write(f\"QUERY\\t{queries[0]}\\n\")\n",
    "RQ1.close()\n",
    "\n",
    "# Storing each result of each query in the TSV file\n",
    "for query in queries:\n",
    "    RQ1 = open('other-outputs/RQ1b.tsv', 'a+')\n",
    "    RQ1.write(f\"QUERY\\t{query}\\n\")\n",
    "    RQ1.close()\n",
    "    print(f\"\\nQUERY: {query.upper()}\\n\")\n",
    "    results=search_engine.run(query).query(\"score > 0\").head(20)\n",
    "    display(results)\n",
    "    results.replace('\\n',' ', regex=True).to_csv(path_or_buf='other-outputs/RQ1b.tsv', sep='\\t', header=False, mode = 'a')\n",
    "    "
   ]
  },
  {
   "cell_type": "markdown",
   "metadata": {},
   "source": [
    "This is the code to the answer RQ1c:"
   ]
  },
  {
   "cell_type": "code",
   "execution_count": null,
   "metadata": {},
   "outputs": [],
   "source": [
    "search_engine.ranking_system.change_user_output(2) #Using Word2Vec + cosine_similarity\n",
    "#chosen queries\n",
    "queries=[]\n",
    "queries.append(\"joe biden won elections\")\n",
    "queries.append(\"donald trump is the president\")\n",
    "queries.append(\"elections are a fraud\")\n",
    "queries.append(\"pennsylvania\")\n",
    "queries.append(\"trump out\")#3\n",
    "queries.append(\"votes fraud\")\n",
    "queries.append(\"i voted\")\n",
    "queries.append(\"georgia votes\")\n",
    "queries.append(\"trump team\")\n",
    "queries.append(\"biden team\")\n",
    "\n",
    "#NOTE: to open the tsv correctly use UTF-8\n",
    "try:\n",
    "    os.remove('other-outputs/RQ1c.tsv')\n",
    "except:\n",
    "    pass\n",
    "\n",
    "# Setting the header of the TSV file\n",
    "RQ1 = open('other-outputs/RQ1c.tsv', 'a+')\n",
    "RQ1.write(\"\\tTweet\\tUsername\\tDate\\tHashtags\\tLikes\\tRetweets\\tReplies\\tUrl\\tScore\\n\")\n",
    "RQ1.write(f\"QUERY\\t{queries[0]}\\n\")\n",
    "RQ1.close()\n",
    "\n",
    "# Storing each result of each query in the TSV file\n",
    "for query in queries:\n",
    "    RQ1 = open('other-outputs/RQ1c.tsv', 'a+')\n",
    "    RQ1.write(f\"QUERY\\t{query}\\n\")\n",
    "    RQ1.close()\n",
    "    print(f\"\\nQUERY: {query.upper()}\\n\")\n",
    "    results=search_engine.run(query).query(\"score > 0\").head(20)\n",
    "    display(results)\n",
    "    results.replace('\\n',' ', regex=True).to_csv(path_or_buf='other-outputs/RQ1c.tsv', sep='\\t', header=False, mode = 'a')"
   ]
  },
  {
   "cell_type": "code",
   "execution_count": null,
   "metadata": {},
   "outputs": [],
   "source": [
    "#Can you imagine a better representation than word2vec? Justify your answer.\n",
    "#(HINT - what about Doc2vec? Sentence2vec? Which are the pros and cons?)"
   ]
  },
  {
   "cell_type": "code",
   "execution_count": null,
   "metadata": {},
   "outputs": [],
   "source": [
    "from sklearn.manifold import TSNE\n",
    "import matplotlib.pyplot as plt\n",
    "import numpy as np\n",
    "from sklearn.cluster import KMeans"
   ]
  },
  {
   "cell_type": "code",
   "execution_count": null,
   "metadata": {},
   "outputs": [],
   "source": [
    "# This function performs K-means to see what are the best number of clusters, recollects the words of each cluster\n",
    "# of tweets and gives labels\n",
    "def KMeans_setup(model) -> None:\n",
    "    total_tokens=[]\n",
    "    tweets_words = []\n",
    "    # for to do word embedding using word2vec and collecting words from the tweets\n",
    "    for tweet in search_engine.tweets[\"text\"]:\n",
    "        tweet_words = {}\n",
    "        tokens = []\n",
    "        # for each word of the tweet do word emebeding, and add it to the dictionary of the tweet. If \n",
    "        # it exists already, then just add 1\n",
    "        for word in tweet.split():\n",
    "            try:\n",
    "                tokens.append(model[word])\n",
    "                if word not in tweet_words.keys():\n",
    "                    tweet_words[word] = 1\n",
    "                else:\n",
    "                    tweet_words[word]+=1\n",
    "            except:\n",
    "                pass\n",
    "        # We do the mean of the word embeddings to represent the tweet (Tweet2Vec)\n",
    "        tokens = np.mean(np.array(tokens), axis=0)\n",
    "        # For the tweets, we just append it to the tweets_words. Since the embedded tweet and tweet words are in the same order,\n",
    "        # we do not need any mapping function to make sure that the tweet words corresponds to the embedded tweet.\n",
    "        tweets_words.append(tweet_words)\n",
    "        if str(tokens) != 'nan':\n",
    "            total_tokens.append(tokens)\n",
    "    \n",
    "    # Plot the sum of square distance depending on the number of clusterings\n",
    "    K = range(1,15)\n",
    "    Sum_of_squared_distances = []\n",
    "    for k in K:\n",
    "        km = KMeans(n_clusters=k)\n",
    "        km = km.fit(total_tokens)\n",
    "        Sum_of_squared_distances.append(km.inertia_)\n",
    "    \n",
    "    plt.plot(K, Sum_of_squared_distances, 'bx-')\n",
    "    plt.xlabel('k')\n",
    "    plt.ylabel('Sum_of_squared_distances')\n",
    "    plt.title('Elbow Method For Optimal k')\n",
    "    plt.show()\n",
    "    return total_tokens, tweets_words"
   ]
  },
  {
   "cell_type": "code",
   "execution_count": null,
   "metadata": {},
   "outputs": [],
   "source": [
    "# This is the function of the T-SNE plot, which takes as inputs the output of the function Kmeans_Setup\n",
    "# The number of clusters have been set according to the plot of Kmeans_setup.\n",
    "def tsne_plot(total_tokens, tweet_words):\n",
    "    NUM_CLUSTERS = 3\n",
    "    # T-SNE setup\n",
    "    tsne_model = TSNE(perplexity=40, n_components=2, init='pca', n_iter=5000, random_state=0)\n",
    "    new_values = tsne_model.fit_transform(total_tokens)\n",
    "    \n",
    "    # K-means setup with the specified number of clusters\n",
    "    kmeans = KMeans(n_clusters=NUM_CLUSTERS)\n",
    "    kmeans = kmeans.fit(total_tokens)\n",
    "    # getting the labels to do the coloring of each node (tweet.)\n",
    "    labels = kmeans.predict(total_tokens)\n",
    "    ColorsA=plt.cm.viridis(np.linspace(0, 1, NUM_CLUSTERS),alpha=0.8)\n",
    "    \n",
    "    # Getting the results of the T-SNE model by getting the coordinates of x,y of each tweet\n",
    "    x = []\n",
    "    y = []\n",
    "    for value in new_values:\n",
    "        x.append(value[0])\n",
    "        y.append(value[1])\n",
    "\n",
    "    clusters_common_words = []\n",
    "    \n",
    "    # Coloring each tweet node depending on the cluster it belongs. We take profit of the variable \"labels\" to do that\n",
    "    plt.figure(figsize=(10,10))\n",
    "    # For each cluster...\n",
    "    for i in range(NUM_CLUSTERS):\n",
    "        xL=[]\n",
    "        yL=[]\n",
    "        cluster_words = {}\n",
    "        # ... and for every tweet...\n",
    "        for k in range(len(x)):\n",
    "            # ...if the tweet belongs to the cluster get the coordinates, and store the words in a dictionary\n",
    "            if labels[k]==i:\n",
    "                xL.append(x[k])\n",
    "                yL.append(y[k])\n",
    "                # collecting and counting the number of words \n",
    "                for word in tweets_words[k]:\n",
    "                    if word not in cluster_words.keys():\n",
    "                        cluster_words[word] = 1\n",
    "                    else:\n",
    "                        cluster_words[word] += tweets_words[k].get(word)\n",
    "        # Associate all the words collected to a cluster\n",
    "        clusters_common_words.append(cluster_words)\n",
    "        plt.scatter(xL,yL,color=ColorsA[i])\n",
    "    \n",
    "    # Extra for loop just to show most common words of each cluster\n",
    "    for i in range(NUM_CLUSTERS):\n",
    "        print(dict(sorted(clusters_common_words[i].items(), key=lambda x: x[1], reverse=True)[:5]))\n",
    "\n",
    "    plt.show()\n"
   ]
  },
  {
   "cell_type": "markdown",
   "metadata": {},
   "source": [
    "The following plot show us the optimal number of clusters needed in our dataset. However, in this case is not very clear, because the \"elbow\" is not very well defined. We think that this is because the tweets are very similar between each other, and that leads us to have at most 2 clusters."
   ]
  },
  {
   "cell_type": "code",
   "execution_count": null,
   "metadata": {},
   "outputs": [],
   "source": [
    "model = search_engine.ranking_system.w2v\n",
    "total_tokens, tweets_words = KMeans_setup(model)"
   ]
  },
  {
   "cell_type": "code",
   "execution_count": null,
   "metadata": {},
   "outputs": [],
   "source": [
    "tsne_plot(total_tokens, tweets_words)"
   ]
  },
  {
   "cell_type": "code",
   "execution_count": null,
   "metadata": {},
   "outputs": [],
   "source": []
  }
 ],
 "metadata": {
  "kernelspec": {
   "display_name": "Python 3",
   "language": "python",
   "name": "python3"
  },
  "language_info": {
   "codemirror_mode": {
    "name": "ipython",
    "version": 3
   },
   "file_extension": ".py",
   "mimetype": "text/x-python",
   "name": "python",
   "nbconvert_exporter": "python",
   "pygments_lexer": "ipython3",
   "version": "3.8.3"
  }
 },
 "nbformat": 4,
 "nbformat_minor": 2
}
